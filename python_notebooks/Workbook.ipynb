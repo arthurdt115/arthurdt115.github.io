{
 "cells": [
  {
   "cell_type": "code",
   "execution_count": 42,
   "metadata": {},
   "outputs": [],
   "source": [
    "import pandas as pd\n",
    "import altair as alt"
   ]
  },
  {
   "cell_type": "code",
   "execution_count": 9,
   "metadata": {},
   "outputs": [],
   "source": [
    "url = \"https://github.com/UIUC-iSchool-DataViz/is445_data/raw/main/ufo-scrubbed-geocoded-time-standardized-00.csv\"\n",
    "data = pd.read_csv(url,names = [\"date\", \"city\", \"state\", \"country\",\n",
    "                           \"shape\", \"duration_seconds\", \"duration\",\n",
    "                           \"comment\", \"report_date\", \n",
    "                            \"latitude\", \"longitude\"],\n",
    "                   parse_dates = [\"date\", \"report_date\"])\n",
    "data['year'] = data['date'].dt.year\n",
    "datac=data.dropna()"
   ]
  },
  {
   "cell_type": "code",
   "execution_count": 10,
   "metadata": {},
   "outputs": [],
   "source": [
    "yearly_sightings = datac.groupby('year').size().reset_index(name='count')"
   ]
  },
  {
   "cell_type": "code",
   "execution_count": 17,
   "metadata": {},
   "outputs": [
    {
     "data": {
      "text/html": [
       "\n",
       "<style>\n",
       "  #altair-viz-bcaa263e14304dff9e3c002a7c09115d.vega-embed {\n",
       "    width: 100%;\n",
       "    display: flex;\n",
       "  }\n",
       "\n",
       "  #altair-viz-bcaa263e14304dff9e3c002a7c09115d.vega-embed details,\n",
       "  #altair-viz-bcaa263e14304dff9e3c002a7c09115d.vega-embed details summary {\n",
       "    position: relative;\n",
       "  }\n",
       "</style>\n",
       "<div id=\"altair-viz-bcaa263e14304dff9e3c002a7c09115d\"></div>\n",
       "<script type=\"text/javascript\">\n",
       "  var VEGA_DEBUG = (typeof VEGA_DEBUG == \"undefined\") ? {} : VEGA_DEBUG;\n",
       "  (function(spec, embedOpt){\n",
       "    let outputDiv = document.currentScript.previousElementSibling;\n",
       "    if (outputDiv.id !== \"altair-viz-bcaa263e14304dff9e3c002a7c09115d\") {\n",
       "      outputDiv = document.getElementById(\"altair-viz-bcaa263e14304dff9e3c002a7c09115d\");\n",
       "    }\n",
       "    const paths = {\n",
       "      \"vega\": \"https://cdn.jsdelivr.net/npm/vega@5?noext\",\n",
       "      \"vega-lib\": \"https://cdn.jsdelivr.net/npm/vega-lib?noext\",\n",
       "      \"vega-lite\": \"https://cdn.jsdelivr.net/npm/vega-lite@5.20.1?noext\",\n",
       "      \"vega-embed\": \"https://cdn.jsdelivr.net/npm/vega-embed@6?noext\",\n",
       "    };\n",
       "\n",
       "    function maybeLoadScript(lib, version) {\n",
       "      var key = `${lib.replace(\"-\", \"\")}_version`;\n",
       "      return (VEGA_DEBUG[key] == version) ?\n",
       "        Promise.resolve(paths[lib]) :\n",
       "        new Promise(function(resolve, reject) {\n",
       "          var s = document.createElement('script');\n",
       "          document.getElementsByTagName(\"head\")[0].appendChild(s);\n",
       "          s.async = true;\n",
       "          s.onload = () => {\n",
       "            VEGA_DEBUG[key] = version;\n",
       "            return resolve(paths[lib]);\n",
       "          };\n",
       "          s.onerror = () => reject(`Error loading script: ${paths[lib]}`);\n",
       "          s.src = paths[lib];\n",
       "        });\n",
       "    }\n",
       "\n",
       "    function showError(err) {\n",
       "      outputDiv.innerHTML = `<div class=\"error\" style=\"color:red;\">${err}</div>`;\n",
       "      throw err;\n",
       "    }\n",
       "\n",
       "    function displayChart(vegaEmbed) {\n",
       "      vegaEmbed(outputDiv, spec, embedOpt)\n",
       "        .catch(err => showError(`Javascript Error: ${err.message}<br>This usually means there's a typo in your chart specification. See the javascript console for the full traceback.`));\n",
       "    }\n",
       "\n",
       "    if(typeof define === \"function\" && define.amd) {\n",
       "      requirejs.config({paths});\n",
       "      require([\"vega-embed\"], displayChart, err => showError(`Error loading script: ${err.message}`));\n",
       "    } else {\n",
       "      maybeLoadScript(\"vega\", \"5\")\n",
       "        .then(() => maybeLoadScript(\"vega-lite\", \"5.20.1\"))\n",
       "        .then(() => maybeLoadScript(\"vega-embed\", \"6\"))\n",
       "        .catch(showError)\n",
       "        .then(() => displayChart(vegaEmbed));\n",
       "    }\n",
       "  })({\"config\": {\"view\": {\"continuousWidth\": 300, \"continuousHeight\": 300}}, \"data\": {\"name\": \"data-ae52111d25e649d5881996a03d88ec16\"}, \"mark\": {\"type\": \"line\", \"point\": true}, \"encoding\": {\"tooltip\": [{\"field\": \"year\", \"type\": \"quantitative\"}, {\"field\": \"count\", \"type\": \"quantitative\"}], \"x\": {\"field\": \"year\", \"title\": \"Year\", \"type\": \"ordinal\"}, \"y\": {\"field\": \"count\", \"title\": \"Number of Sightings\", \"type\": \"quantitative\"}}, \"height\": 500, \"title\": \"Number of UFO Sightings Over Time\", \"width\": 900, \"$schema\": \"https://vega.github.io/schema/vega-lite/v5.20.1.json\", \"datasets\": {\"data-ae52111d25e649d5881996a03d88ec16\": [{\"year\": 1910, \"count\": 2}, {\"year\": 1920, \"count\": 1}, {\"year\": 1925, \"count\": 1}, {\"year\": 1929, \"count\": 1}, {\"year\": 1931, \"count\": 2}, {\"year\": 1934, \"count\": 1}, {\"year\": 1936, \"count\": 2}, {\"year\": 1937, \"count\": 2}, {\"year\": 1939, \"count\": 3}, {\"year\": 1941, \"count\": 1}, {\"year\": 1942, \"count\": 2}, {\"year\": 1943, \"count\": 1}, {\"year\": 1944, \"count\": 3}, {\"year\": 1945, \"count\": 7}, {\"year\": 1946, \"count\": 9}, {\"year\": 1947, \"count\": 31}, {\"year\": 1948, \"count\": 7}, {\"year\": 1949, \"count\": 15}, {\"year\": 1950, \"count\": 21}, {\"year\": 1951, \"count\": 14}, {\"year\": 1952, \"count\": 38}, {\"year\": 1953, \"count\": 26}, {\"year\": 1954, \"count\": 39}, {\"year\": 1955, \"count\": 24}, {\"year\": 1956, \"count\": 38}, {\"year\": 1957, \"count\": 60}, {\"year\": 1958, \"count\": 43}, {\"year\": 1959, \"count\": 43}, {\"year\": 1960, \"count\": 55}, {\"year\": 1961, \"count\": 42}, {\"year\": 1962, \"count\": 57}, {\"year\": 1963, \"count\": 71}, {\"year\": 1964, \"count\": 76}, {\"year\": 1965, \"count\": 163}, {\"year\": 1966, \"count\": 166}, {\"year\": 1967, \"count\": 147}, {\"year\": 1968, \"count\": 177}, {\"year\": 1969, \"count\": 127}, {\"year\": 1970, \"count\": 115}, {\"year\": 1971, \"count\": 100}, {\"year\": 1972, \"count\": 125}, {\"year\": 1973, \"count\": 190}, {\"year\": 1974, \"count\": 222}, {\"year\": 1975, \"count\": 255}, {\"year\": 1976, \"count\": 221}, {\"year\": 1977, \"count\": 216}, {\"year\": 1978, \"count\": 266}, {\"year\": 1979, \"count\": 193}, {\"year\": 1980, \"count\": 200}, {\"year\": 1981, \"count\": 136}, {\"year\": 1982, \"count\": 139}, {\"year\": 1983, \"count\": 125}, {\"year\": 1984, \"count\": 148}, {\"year\": 1985, \"count\": 178}, {\"year\": 1986, \"count\": 152}, {\"year\": 1987, \"count\": 182}, {\"year\": 1988, \"count\": 193}, {\"year\": 1989, \"count\": 202}, {\"year\": 1990, \"count\": 203}, {\"year\": 1991, \"count\": 185}, {\"year\": 1992, \"count\": 191}, {\"year\": 1993, \"count\": 236}, {\"year\": 1994, \"count\": 332}, {\"year\": 1995, \"count\": 431}, {\"year\": 1996, \"count\": 459}, {\"year\": 1997, \"count\": 1013}, {\"year\": 1998, \"count\": 1455}, {\"year\": 1999, \"count\": 2288}, {\"year\": 2000, \"count\": 2249}, {\"year\": 2001, \"count\": 2548}, {\"year\": 2002, \"count\": 2564}, {\"year\": 2003, \"count\": 3209}, {\"year\": 2004, \"count\": 3466}, {\"year\": 2005, \"count\": 3374}, {\"year\": 2006, \"count\": 3001}, {\"year\": 2007, \"count\": 3604}, {\"year\": 2008, \"count\": 4089}, {\"year\": 2009, \"count\": 3743}, {\"year\": 2010, \"count\": 3645}, {\"year\": 2011, \"count\": 4456}, {\"year\": 2012, \"count\": 6489}, {\"year\": 2013, \"count\": 6237}, {\"year\": 2014, \"count\": 1973}]}}, {\"mode\": \"vega-lite\"});\n",
       "</script>"
      ],
      "text/plain": [
       "alt.Chart(...)"
      ]
     },
     "execution_count": 17,
     "metadata": {},
     "output_type": "execute_result"
    }
   ],
   "source": [
    "chart1 = alt.Chart(yearly_sightings).mark_line(point=True).encode(\n",
    "    x=alt.X('year:O', title='Year'),\n",
    "    y=alt.Y('count:Q', title='Number of Sightings'),\n",
    "    tooltip=['year', 'count']\n",
    ").properties(\n",
    "    width=900,\n",
    "    height=500,\n",
    "    title=\"Number of UFO Sightings Over Time\"\n",
    ")\n",
    "chart1\n"
   ]
  },
  {
   "cell_type": "code",
   "execution_count": 25,
   "metadata": {},
   "outputs": [],
   "source": [
    "jekdir = \"/Users/arthu/arthurdt115.github.io/assets/json/\""
   ]
  },
  {
   "cell_type": "code",
   "execution_count": 26,
   "metadata": {},
   "outputs": [],
   "source": [
    "chart1.save(jekdir+\"Chart01.json\")"
   ]
  },
  {
   "cell_type": "code",
   "execution_count": 52,
   "metadata": {},
   "outputs": [],
   "source": [
    "shape_sightings = datac['shape'].value_counts().reset_index(name='count')"
   ]
  },
  {
   "cell_type": "code",
   "execution_count": 50,
   "metadata": {},
   "outputs": [
    {
     "data": {
      "text/html": [
       "\n",
       "<style>\n",
       "  #altair-viz-b8132aab63c0445597890b4551abdb44.vega-embed {\n",
       "    width: 100%;\n",
       "    display: flex;\n",
       "  }\n",
       "\n",
       "  #altair-viz-b8132aab63c0445597890b4551abdb44.vega-embed details,\n",
       "  #altair-viz-b8132aab63c0445597890b4551abdb44.vega-embed details summary {\n",
       "    position: relative;\n",
       "  }\n",
       "</style>\n",
       "<div id=\"altair-viz-b8132aab63c0445597890b4551abdb44\"></div>\n",
       "<script type=\"text/javascript\">\n",
       "  var VEGA_DEBUG = (typeof VEGA_DEBUG == \"undefined\") ? {} : VEGA_DEBUG;\n",
       "  (function(spec, embedOpt){\n",
       "    let outputDiv = document.currentScript.previousElementSibling;\n",
       "    if (outputDiv.id !== \"altair-viz-b8132aab63c0445597890b4551abdb44\") {\n",
       "      outputDiv = document.getElementById(\"altair-viz-b8132aab63c0445597890b4551abdb44\");\n",
       "    }\n",
       "    const paths = {\n",
       "      \"vega\": \"https://cdn.jsdelivr.net/npm/vega@5?noext\",\n",
       "      \"vega-lib\": \"https://cdn.jsdelivr.net/npm/vega-lib?noext\",\n",
       "      \"vega-lite\": \"https://cdn.jsdelivr.net/npm/vega-lite@5.20.1?noext\",\n",
       "      \"vega-embed\": \"https://cdn.jsdelivr.net/npm/vega-embed@6?noext\",\n",
       "    };\n",
       "\n",
       "    function maybeLoadScript(lib, version) {\n",
       "      var key = `${lib.replace(\"-\", \"\")}_version`;\n",
       "      return (VEGA_DEBUG[key] == version) ?\n",
       "        Promise.resolve(paths[lib]) :\n",
       "        new Promise(function(resolve, reject) {\n",
       "          var s = document.createElement('script');\n",
       "          document.getElementsByTagName(\"head\")[0].appendChild(s);\n",
       "          s.async = true;\n",
       "          s.onload = () => {\n",
       "            VEGA_DEBUG[key] = version;\n",
       "            return resolve(paths[lib]);\n",
       "          };\n",
       "          s.onerror = () => reject(`Error loading script: ${paths[lib]}`);\n",
       "          s.src = paths[lib];\n",
       "        });\n",
       "    }\n",
       "\n",
       "    function showError(err) {\n",
       "      outputDiv.innerHTML = `<div class=\"error\" style=\"color:red;\">${err}</div>`;\n",
       "      throw err;\n",
       "    }\n",
       "\n",
       "    function displayChart(vegaEmbed) {\n",
       "      vegaEmbed(outputDiv, spec, embedOpt)\n",
       "        .catch(err => showError(`Javascript Error: ${err.message}<br>This usually means there's a typo in your chart specification. See the javascript console for the full traceback.`));\n",
       "    }\n",
       "\n",
       "    if(typeof define === \"function\" && define.amd) {\n",
       "      requirejs.config({paths});\n",
       "      require([\"vega-embed\"], displayChart, err => showError(`Error loading script: ${err.message}`));\n",
       "    } else {\n",
       "      maybeLoadScript(\"vega\", \"5\")\n",
       "        .then(() => maybeLoadScript(\"vega-lite\", \"5.20.1\"))\n",
       "        .then(() => maybeLoadScript(\"vega-embed\", \"6\"))\n",
       "        .catch(showError)\n",
       "        .then(() => displayChart(vegaEmbed));\n",
       "    }\n",
       "  })({\"config\": {\"view\": {\"continuousWidth\": 300, \"continuousHeight\": 300}}, \"data\": {\"name\": \"data-636a55c546ed55d4c5a9f938f8003f2d\"}, \"mark\": {\"type\": \"bar\"}, \"encoding\": {\"color\": {\"field\": \"shape\", \"type\": \"nominal\"}, \"x\": {\"field\": \"shape\", \"sort\": \"y\", \"title\": \"Shape\", \"type\": \"ordinal\"}, \"y\": {\"field\": \"count\", \"title\": \"Count\", \"type\": \"quantitative\"}}, \"height\": 500, \"title\": \"Number of UFO Sightings by Shape\", \"$schema\": \"https://vega.github.io/schema/vega-lite/v5.20.1.json\", \"datasets\": {\"data-636a55c546ed55d4c5a9f938f8003f2d\": [{\"shape\": \"light\", \"count\": 14130}, {\"shape\": \"triangle\", \"count\": 6817}, {\"shape\": \"circle\", \"count\": 6405}, {\"shape\": \"fireball\", \"count\": 5364}, {\"shape\": \"unknown\", \"count\": 4774}, {\"shape\": \"other\", \"count\": 4705}, {\"shape\": \"sphere\", \"count\": 4552}, {\"shape\": \"disk\", \"count\": 4319}, {\"shape\": \"oval\", \"count\": 3160}, {\"shape\": \"formation\", \"count\": 2088}, {\"shape\": \"cigar\", \"count\": 1717}, {\"shape\": \"changing\", \"count\": 1653}, {\"shape\": \"flash\", \"count\": 1124}, {\"shape\": \"rectangle\", \"count\": 1117}, {\"shape\": \"cylinder\", \"count\": 1079}, {\"shape\": \"diamond\", \"count\": 969}, {\"shape\": \"chevron\", \"count\": 852}, {\"shape\": \"teardrop\", \"count\": 614}, {\"shape\": \"egg\", \"count\": 609}, {\"shape\": \"cone\", \"count\": 257}, {\"shape\": \"cross\", \"count\": 197}, {\"shape\": \"delta\", \"count\": 7}, {\"shape\": \"round\", \"count\": 2}, {\"shape\": \"pyramid\", \"count\": 1}, {\"shape\": \"flare\", \"count\": 1}, {\"shape\": \"hexagon\", \"count\": 1}, {\"shape\": \"crescent\", \"count\": 1}, {\"shape\": \"changed\", \"count\": 1}]}}, {\"mode\": \"vega-lite\"});\n",
       "</script>"
      ],
      "text/plain": [
       "alt.Chart(...)"
      ]
     },
     "execution_count": 50,
     "metadata": {},
     "output_type": "execute_result"
    }
   ],
   "source": [
    "chart2 = alt.Chart(shape_sightings).mark_bar().encode(\n",
    "    x=alt.X('shape:O',sort='y',title=\"Shape\"),  \n",
    "    y=alt.Y('count:Q', title= \"Count\"),  \n",
    "    color='shape:N'  \n",
    ").properties(\n",
    "    title=\"Number of UFO Sightings by Shape\",\n",
    "    height=500\n",
    ")\n",
    "chart2"
   ]
  },
  {
   "cell_type": "code",
   "execution_count": 51,
   "metadata": {},
   "outputs": [],
   "source": [
    "chart2.save(jekdir+\"Chart02.json\")"
   ]
  }
 ],
 "metadata": {
  "kernelspec": {
   "display_name": "Python 3",
   "language": "python",
   "name": "python3"
  },
  "language_info": {
   "codemirror_mode": {
    "name": "ipython",
    "version": 3
   },
   "file_extension": ".py",
   "mimetype": "text/x-python",
   "name": "python",
   "nbconvert_exporter": "python",
   "pygments_lexer": "ipython3",
   "version": "3.12.5"
  }
 },
 "nbformat": 4,
 "nbformat_minor": 2
}
